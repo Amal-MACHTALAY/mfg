{
 "cells": [
  {
   "cell_type": "code",
   "execution_count": 1,
   "id": "65a36cee",
   "metadata": {},
   "outputs": [],
   "source": [
    "import numpy as np\n",
    "import math"
   ]
  },
  {
   "cell_type": "code",
   "execution_count": 2,
   "id": "25730704",
   "metadata": {},
   "outputs": [],
   "source": [
    "''' Fully segregated CT initial density'''\n",
    "L=2.0\n",
    "sigma=0.15\n",
    "def rho1_int(s): # initial density\n",
    "    rho_a=0.0; rho_b=1.0 # cars\n",
    "    return rho_a+(rho_b-rho_a)*np.exp(-0.5*(((s-L/4)/sigma)**2))\n",
    "                \n",
    "def rho2_int(s): # initial density\n",
    "    rho_a=0.0; rho_b=0.5 # Trucks\n",
    "    return rho_a+(rho_b-rho_a)*np.exp(-0.5*(((s-3*L/4)/sigma)**2))\n",
    "\n",
    "Nx=100\n",
    "X_CT= np.linspace(0,L,Nx) # creating the space grid    \n",
    "ro1_CT = np.zeros(Nx)\n",
    "ro2_CT = np.zeros(Nx)\n",
    "for i in range(len(X_CT)):\n",
    "    ro1_CT[i] = rho1_int(X_CT[i])\n",
    "    ro2_CT[i] = rho2_int(X_CT[i])"
   ]
  },
  {
   "cell_type": "code",
   "execution_count": 3,
   "id": "85643061",
   "metadata": {},
   "outputs": [],
   "source": [
    "''' Fully segregated TC initial density'''\n",
    "sigma=0.15\n",
    "L=2.0\n",
    "def rho1_int(s): # initial density\n",
    "    rho_a=0.0; rho_b=1.0 # cars\n",
    "    return rho_a+(rho_b-rho_a)*np.exp(-0.5*(((s-3*L/4)/sigma)**2))\n",
    "                \n",
    "def rho2_int(s): # initial density\n",
    "    rho_a=0.0; rho_b=0.5 # Trucks\n",
    "    return rho_a+(rho_b-rho_a)*np.exp(-0.5*(((s-L/4)/sigma)**2))\n",
    "\n",
    "Nx=100\n",
    "X_TC= np.linspace(0,L,Nx) # creating the space grid    \n",
    "ro1_TC = np.zeros(Nx)\n",
    "ro2_TC = np.zeros(Nx)\n",
    "for i in range(len(X_TC)):\n",
    "    ro1_TC[i] = rho1_int(X_TC[i])\n",
    "    ro2_TC[i] = rho2_int(X_TC[i])"
   ]
  },
  {
   "cell_type": "code",
   "execution_count": 4,
   "id": "8c96eb6c",
   "metadata": {},
   "outputs": [],
   "source": [
    "L=6\n",
    "''' Integrated initial TCT density'''\n",
    "sigma=0.15\n",
    "def rho1_int(s): # initial density\n",
    "    rho_a=0.0; rho_b=1.0 # cars\n",
    "    return rho_a+(rho_b-rho_a)*(np.exp(-0.5*(((s-3*L/12)/sigma)**2))+np.exp(-0.5*(((s-7*L/12)/sigma)**2))+np.exp(-0.5*(((s-11*L/12)/sigma)**2)))\n",
    "              \n",
    "def rho2_int(s): # initial density\n",
    "    rho_a=0.0; rho_b=0.5 # Trucks\n",
    "    return rho_a+(rho_b-rho_a)*(np.exp(-0.5*(((s-L/12)/sigma)**2))+np.exp(-0.5*(((s-5*L/12)/sigma)**2))+np.exp(-0.5*(((s-9*L/12)/sigma)**2)))\n",
    "\n",
    "Nx=100\n",
    "X_TCT= np.linspace(0,L,Nx) # creating the space grid    \n",
    "ro1_TCT = np.zeros(Nx)\n",
    "ro2_TCT = np.zeros(Nx)\n",
    "for i in range(len(X_TCT)):\n",
    "    ro1_TCT[i] = rho1_int(X_TCT[i])\n",
    "    ro2_TCT[i] = rho2_int(X_TCT[i])"
   ]
  },
  {
   "cell_type": "code",
   "execution_count": 5,
   "id": "548b1f5d",
   "metadata": {},
   "outputs": [],
   "source": [
    "ro1=[ro1_TC,ro1_CT,ro1_TCT]\n",
    "ro2=[ro2_TC,ro2_CT,ro2_TCT]\n",
    "X=[X_TC,X_CT,X_TCT]"
   ]
  },
  {
   "cell_type": "code",
   "execution_count": 6,
   "id": "f556683d",
   "metadata": {},
   "outputs": [],
   "source": [
    "import matplotlib as mpl\n",
    "import matplotlib.pyplot as plt\n",
    "import argparse\n",
    "import pylab\n",
    "\n",
    "def set_size(width, fraction=1, subplot=[1,1]):\n",
    "    if width == 'elsevier':\n",
    "        width_pt=468.0\n",
    "    elif width == 'beamer':\n",
    "        width_pt=307.28987\n",
    "    else:\n",
    "        width_pt=width\n",
    "    fig_width_pt=width_pt*fraction  # Width of figure\n",
    "    inches_per_pt=1/82           # Convert from pt to inches\n",
    "    golden_ratio=0.25               # (5**.5 - 1)/2\n",
    "    fig_width_in=fig_width_pt*inches_per_pt  # Figure width in inches\n",
    "    fig_hight_in=fig_width_in*golden_ratio*(subplot[0]/subplot[1])\n",
    "    fig_dim=(fig_width_in,fig_hight_in)\n",
    "#     print(fig_dim)\n",
    "    return fig_dim\n",
    "\n",
    "plt.style.use('seaborn-colorblind') # Using seaborn's style\n",
    "nice_fonts={\n",
    "    \"text.usetex\" : True,\n",
    "    \"font.family\" : \"serif\",\n",
    "    \"axes.labelsize\" : 5,\n",
    "    \"font.size\" : 10,\n",
    "    \"legend.fontsize\" : 8,\n",
    "    \"xtick.labelsize\" : 8,\n",
    "    \"ytick.labelsize\" :8,\n",
    "}\n",
    "mpl.rcParams.update(nice_fonts)"
   ]
  },
  {
   "cell_type": "code",
   "execution_count": 10,
   "id": "a8928dba",
   "metadata": {},
   "outputs": [
    {
     "data": {
      "image/png": "[encoded data removed]",
      "text/plain": [
       "<Figure size 741.951x185.488 with 3 Axes>"
      ]
     },
     "metadata": {},
     "output_type": "display_data"
    },
    {
     "data": {
      "text/plain": [
       "<Figure size 640x480 with 0 Axes>"
      ]
     },
     "metadata": {},
     "output_type": "display_data"
    }
   ],
   "source": [
    "ln=1; col=3\n",
    "fig, axs = plt.subplots(ln, col, figsize=set_size('elsevier',fraction=1.3))\n",
    "labels = [\"Cars\",\"Trucks\"]\n",
    "for j in range(col):\n",
    "    axs[j].plot(X[j],ro1[j],color='blue',label='Cars',linewidth=1.0,linestyle='solid')  # linestyle='solid','dotted'\n",
    "    axs[j].plot(X[j],ro2[j],color='red',label='Trucks',linewidth=1.0,linestyle='solid')\n",
    "    axs[j].set_ylim(ymin=0.0, ymax=1.02)\n",
    "    #axs[i, j].set_xlim(xmin=0.0, xmax=2.0)\n",
    "    axs[j].grid()\n",
    "    #    axs[i, j].tick_params(axis='x', rotation=45)\n",
    "    if j!=0: \n",
    "        axs[j].set_yticklabels([])#set_xticks([])\n",
    "    if j!=col-1: axs[j].set_xticks([0,1,2])\n",
    "    else: axs[j].set_xticks([0,1,2,3,4,5,6])\n",
    "    plt.subplots_adjust(wspace=0.09, hspace=0.5)\n",
    "            \n",
    "axs[0].set_xlabel(\"x\", fontsize= 12)\n",
    "axs[0].set_ylabel(r\"$\\rho$\", fontsize = 12)\n",
    "axs[0].set_title(\"TC\", fontsize= 12)\n",
    "axs[1].set_xlabel(\"x\", fontsize = 12)\n",
    "axs[1].set_title(\"CT\", fontsize= 12)\n",
    "axs[2].set_xlabel(\"x\", fontsize = 12)\n",
    "axs[2].set_title(\"TCT\", fontsize= 12)\n",
    "#plt.xticks(rotation = 45)\n",
    "#fig.legend(labels=labels, loc=\"lower center\", ncol=3)\n",
    "fig.legend(labels=labels, loc='lower center', bbox_to_anchor=(0.5, -0.25), ncol=4,) #center right\n",
    "plt.show()\n",
    "#fig.savefig(\"./fig_2class_initial_config.pdf\", dpi=300, bbox_inches='tight')\n",
    "#fig.savefig(\"./fig_2class_initial_config.png\", dpi=300, bbox_inches='tight')\n",
    "plt.clf()"
   ]
  },
  {
   "cell_type": "code",
   "execution_count": null,
   "id": "9c369697",
   "metadata": {},
   "outputs": [],
   "source": []
  }
 ],
 "metadata": {
  "kernelspec": {
   "display_name": "Python 3 (ipykernel)",
   "language": "python",
   "name": "python3"
  },
  "language_info": {
   "codemirror_mode": {
    "name": "ipython",
    "version": 3
   },
   "file_extension": ".py",
   "mimetype": "text/x-python",
   "name": "python",
   "nbconvert_exporter": "python",
   "pygments_lexer": "ipython3",
   "version": "3.9.15"
  }
 },
 "nbformat": 4,
 "nbformat_minor": 5
}
