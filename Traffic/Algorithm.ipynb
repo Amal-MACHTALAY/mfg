{
 "cells": [
  {
   "cell_type": "markdown",
   "metadata": {},
   "source": [
    "# NonViscous MFG-traffic flow model\n",
    "\n",
    "### MFG system\n",
    "$$\n",
    "\\left\\{\\begin{array}{ll}\n",
    "(\\text { CE }) & \\rho_{t}+(\\rho u)_{x}=0 \\\\\n",
    "(\\text { HJB }) & V_{t}+f^{*}\\left(V_{x}, \\rho\\right)=0 \\\\\n",
    "& u=f_{p}^{*}\\left(V_{x}, \\rho\\right)\\\\\n",
    "& \\rho(x,0)=\\rho_{0}(x) \\quad,  V(x,T)=V_{T}(x)\n",
    "\\end{array}\\right.\n",
    "$$\n",
    "\n",
    "- $t \\in [0,T] \\quad $, $x \\in [0,L] \\quad$, $0 \\leq u \\leq u_{max} \\quad$, $0 \\leq \\rho \\leq \\rho_{jam}$  \n",
    "\n",
    "- **Legendre transformation** : $-f^{*}(-p, \\rho)$ with $f^{*}(p, \\rho)=\\min _{0 \\leq u \\leq u_{\\max }}\\{f(u, \\rho)+u p\\}, \\forall p \\in \\mathbb{R}$  \n",
    "\n",
    "### MFG discretization\n",
    "$1 \\leq j \\leq N_{x}, \\quad 0 \\leq n \\leq N_{t}$\n",
    "\n",
    "$$\\left\\{\\begin{matrix}\n",
    "\\rho_{j}^{n+1}-\\frac{1}{2}\\left(\\rho_{j-1}^{n}+\\rho_{j+1}^{n}\\right)=0\\\\ \n",
    "V_{j}^{n+1}-V_{j}^{n}+\\Delta t f^{*}\\left(\\frac{V_{j}^{n+1}-V_{j-1}^{n+1}}{\\Delta x}, \\rho_{j}^{n}\\right)=0\\\\ \n",
    "u_{j}^{n}-f_{p}^{*}\\left(\\frac{V_{j}^{n+1}-V_{j-1}^{n+1}}{\\Delta x}, \\rho_{j}^{n}\\right)=0\\\\ \n",
    "\\rho_{j}^{0}-\\frac{1}{\\Delta x} \\int_{x_{j-1}}^{x_{j}} \\rho_{0}(x) d x =0\\\\\n",
    "\\quad V_{j}^{N_{t}}-V_{T}\\left(x_{j}\\right) =0\n",
    "\\end{matrix}\\right.$$\n",
    "\n",
    "### Examples\n",
    "\n",
    "- **MFG-LWR** : $f(u, \\rho)=\\frac{1}{2}(U(\\rho)-u)^{2}$\n",
    "\n",
    "- **MFG-Separable** : $f(u, \\rho)=\\frac{1}{2}(\\frac{u}{u_{max}})^{2}-\\frac{u}{u_{max}}+\\frac{\\rho}{\\rho_{jam}}$\n",
    "\n",
    "- **MFG-NonSeparable** : $f(u, \\rho)=\\frac{1}{2}(\\frac{u}{u_{max}})^{2}-\\frac{u}{u_{max}}+\\frac{u \\rho}{u_{max} \\rho_{jam}} $\n",
    "\n",
    "### Periodic Boundary conditions\n",
    "Ring road : $\\rho(0,t)=\\rho(L,t), \\quad V(0,t)=V(L,t)$"
   ]
  }
 ],
 "metadata": {
  "kernelspec": {
   "display_name": "Python 3",
   "language": "python",
   "name": "python3"
  },
  "language_info": {
   "codemirror_mode": {
    "name": "ipython",
    "version": 3
   },
   "file_extension": ".py",
   "mimetype": "text/x-python",
   "name": "python",
   "nbconvert_exporter": "python",
   "pygments_lexer": "ipython3",
   "version": "3.7.4"
  }
 },
 "nbformat": 4,
 "nbformat_minor": 2
}

"\n",
    "$$\\left\\{\\begin{matrix}\n",
    "\\rho_{j}^{n+1}-\\frac{1}{2}\\left(\\rho_{j-1}^{n}+\\rho_{j+1}^{n}\\right)+\\frac{\\Delta t}{2 \\Delta x}\\left(\\rho_{j+1}^{n} u_{j+1}^{n}-\\rho_{j-1}^{n} u_{j-1}^{n}\\right)-\\frac{\\nu \\Delta t}{\\Delta x^{2}}\\left ( \\rho_{j+1}^{n}-2\\rho_{j}^{n}+\\rho_{j-1}^{n} \\right )=0\\\\ \n",
    "V_{j}^{n+1}-V_{j}^{n}+\\Delta t f^{*}\\left(\\frac{V_{j}^{n+1}-V_{j-1}^{n+1}}{\\Delta x}, \\rho_{j}^{n}\\right)+ \\frac{\\nu \\Delta t}{\\Delta x^{2}}\\left ( V_{j+1}^{n+1}-2V_{j}^{n+1}+V_{j-1}^{n+1} \\right )=0\\\\ \n",
    "u_{j}^{n}-f_{p}^{*}\\left(\\frac{V_{j}^{n+1}-V_{j-1}^{n+1}}{\\Delta x}, \\rho_{j}^{n}\\right)=0\\\\ \n",
    "\\rho_{j}^{0}-\\frac{1}{\\Delta x} \\int_{x_{j-1}}^{x_{j}} \\rho_{0}(x) d x =0\\\\\n",
    "\\quad V_{j}^{N_{t}}-V_{T}\\left(x_{j}\\right) =0\n",
    "\\end{matrix}\\right.$$"
